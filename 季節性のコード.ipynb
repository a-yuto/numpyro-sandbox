{
  "cells": [
    {
      "cell_type": "markdown",
      "metadata": {
        "id": "view-in-github",
        "colab_type": "text"
      },
      "source": [
        "<a href=\"https://colab.research.google.com/github/a-yuto/numpyro-sandbox/blob/main/%E5%AD%A3%E7%AF%80%E6%80%A7%E3%81%AE%E3%82%B3%E3%83%BC%E3%83%89.ipynb\" target=\"_parent\"><img src=\"https://colab.research.google.com/assets/colab-badge.svg\" alt=\"Open In Colab\"/></a>"
      ]
    },
    {
      "cell_type": "code",
      "execution_count": 1,
      "metadata": {
        "colab": {
          "base_uri": "https://localhost:8080/"
        },
        "id": "il8dm-VIHMy6",
        "outputId": "430ce062-bfab-4407-d642-d87f442c1720"
      },
      "outputs": [
        {
          "output_type": "stream",
          "name": "stdout",
          "text": [
            "Looking in indexes: https://pypi.org/simple, https://us-python.pkg.dev/colab-wheels/public/simple/\n",
            "Collecting numpyro\n",
            "  Downloading numpyro-0.12.1-py3-none-any.whl (304 kB)\n",
            "\u001b[2K     \u001b[90m━━━━━━━━━━━━━━━━━━━━━━━━━━━━━━━━━━━━━━\u001b[0m \u001b[32m304.6/304.6 kB\u001b[0m \u001b[31m16.4 MB/s\u001b[0m eta \u001b[36m0:00:00\u001b[0m\n",
            "\u001b[?25hRequirement already satisfied: jax>=0.4.7 in /usr/local/lib/python3.10/dist-packages (from numpyro) (0.4.10)\n",
            "Requirement already satisfied: jaxlib>=0.4.7 in /usr/local/lib/python3.10/dist-packages (from numpyro) (0.4.10+cuda11.cudnn86)\n",
            "Requirement already satisfied: multipledispatch in /usr/local/lib/python3.10/dist-packages (from numpyro) (0.6.0)\n",
            "Requirement already satisfied: numpy in /usr/local/lib/python3.10/dist-packages (from numpyro) (1.22.4)\n",
            "Requirement already satisfied: tqdm in /usr/local/lib/python3.10/dist-packages (from numpyro) (4.65.0)\n",
            "Requirement already satisfied: ml-dtypes>=0.1.0 in /usr/local/lib/python3.10/dist-packages (from jax>=0.4.7->numpyro) (0.1.0)\n",
            "Requirement already satisfied: opt-einsum in /usr/local/lib/python3.10/dist-packages (from jax>=0.4.7->numpyro) (3.3.0)\n",
            "Requirement already satisfied: scipy>=1.7 in /usr/local/lib/python3.10/dist-packages (from jax>=0.4.7->numpyro) (1.10.1)\n",
            "Requirement already satisfied: six in /usr/local/lib/python3.10/dist-packages (from multipledispatch->numpyro) (1.16.0)\n",
            "Installing collected packages: numpyro\n",
            "Successfully installed numpyro-0.12.1\n"
          ]
        }
      ],
      "source": [
        "%pip install numpyro\n",
        "#%pip install -U jax==0.3.25 jaxlib==0.3.25 flax"
      ]
    },
    {
      "cell_type": "code",
      "execution_count": 2,
      "metadata": {
        "id": "PlUyl1AQHdEF"
      },
      "outputs": [],
      "source": [
        "\n",
        "import jax\n",
        "import jax.numpy as jnp\n",
        "from jax import random,ops\n",
        "import numpyro\n",
        "from numpyro import sample, plate\n",
        "from numpyro.infer import MCMC, NUTS\n",
        "import numpyro.distributions as dist\n",
        "from typing import Callable\n",
        "import numpy as np"
      ]
    },
    {
      "cell_type": "code",
      "execution_count": 3,
      "metadata": {
        "id": "Na_K4tvddmKb"
      },
      "outputs": [],
      "source": [
        "# モデル定義\n",
        "def multiplicative_model(seasonality : np.ndarray, y=None):\n",
        "    num_seasons = len(np.unique(seasonality))\n",
        "    mu = numpyro.sample('mu', dist.Normal(0., 1.))\n",
        "    sigma = numpyro.sample('sigma', dist.HalfNormal(0.5))\n",
        "    with numpyro.plate('seasonality_plate', num_seasons):\n",
        "        season_effect = numpyro.sample('season_effect', dist.Normal(0, 1))\n",
        "\n",
        "    # トレンド部分をAR(1)に\n",
        "    phi = numpyro.sample('phi', dist.Normal(0., 1.))\n",
        "    trend_prev = numpyro.sample('trend_0', dist.Normal(0., 1.))\n",
        "\n",
        "    obs = []\n",
        "    n_time = len(y) if y is not None else len(seasonality)\n",
        "    for t in range(n_time):\n",
        "        if t > 0:\n",
        "            trend = numpyro.sample(f'trend_{t}', dist.Normal(phi*trend_prev, 1.))\n",
        "            trend_prev = trend\n",
        "        else:\n",
        "            trend = trend_prev\n",
        "\n",
        "        mean_function = jnp.exp(mu + trend + season_effect[seasonality[t]])\n",
        "        obs.append(mean_function)\n",
        "\n",
        "    with numpyro.plate('obs_plate', n_time):\n",
        "        numpyro.sample('obs', dist.Normal(jnp.array(obs), sigma), obs=y)\n",
        "\n",
        "def ar_model(seasonality : np.ndarray,  n = 1, y=None):\n",
        "    num_seasons = len(np.unique(seasonality))\n",
        "    mu = numpyro.sample('mu', dist.Normal(0., 1.))\n",
        "    sigma = numpyro.sample('sigma', dist.HalfNormal(0.5))\n",
        "\n",
        "    with numpyro.plate('seasonality_plate', num_seasons):\n",
        "        season_effect = numpyro.sample('season_effect', dist.Normal(0, 1))\n",
        "\n",
        "    # トレンド部分をAR(n)に\n",
        "    phi = numpyro.sample('phi', dist.Normal(0., 1.), sample_shape=(n,))\n",
        "    trend_prev = numpyro.sample('trend_init', dist.Normal(0., 1.), sample_shape=(n,))\n",
        "\n",
        "    obs = []\n",
        "    n_time = len(y) if y is not None else len(seasonality)\n",
        "    for t in range(n_time):\n",
        "        if t >= n:\n",
        "            trend = numpyro.sample(f'trend_{t}', dist.Normal(jnp.dot(phi, trend_prev), 1.))\n",
        "            trend_prev = jnp.roll(trend_prev, -1)\n",
        "            trend_prev = trend_prev.at[-1].set(trend)\n",
        "        elif t > 0 and t < n:\n",
        "            trend = numpyro.sample(f'trend_{t}', dist.Normal(jnp.dot(phi[:t], trend_prev[:t]), 1.))\n",
        "        else:\n",
        "            trend = trend_prev[t]\n",
        "\n",
        "        mean_function = jnp.exp(mu + trend + season_effect[seasonality[t]])\n",
        "        obs.append(mean_function)\n",
        "\n",
        "    with numpyro.plate('obs_plate', n_time):\n",
        "        numpyro.sample('obs', dist.Normal(jnp.array(obs), sigma), obs=y)\n",
        "\n",
        "\n",
        "def ma_model(seasonality : np.ndarray,n = 1, y=None):\n",
        "    num_seasons = len(np.unique(seasonality))\n",
        "    mu = numpyro.sample('mu', dist.Normal(0., 1.))\n",
        "    sigma = numpyro.sample('sigma', dist.HalfNormal(0.5))\n",
        "\n",
        "    with numpyro.plate('seasonality_plate', num_seasons):\n",
        "        season_effect = numpyro.sample('season_effect', dist.Normal(0, 1))\n",
        "\n",
        "    # トレンド部分をMA(n)に\n",
        "    theta = numpyro.sample('theta', dist.Normal(0., 1.), sample_shape=(n,))\n",
        "    error_prev = numpyro.sample('error_init', dist.Normal(0., 1.), sample_shape=(n,))\n",
        "\n",
        "    obs = []\n",
        "    n_time = len(y) if y is not None else len(seasonality)\n",
        "    for t in range(n_time):\n",
        "        error = numpyro.sample(f'error_{t}', dist.Normal(0., 1.))\n",
        "        if t >= n:\n",
        "            trend = jnp.dot(theta, error_prev) + error\n",
        "            error_prev = jnp.roll(error_prev, -1)\n",
        "            error_prev = error_prev.at[-1].set(error)\n",
        "        elif t > 0 and t < n:\n",
        "            trend = jnp.dot(theta[:t], error_prev[:t]) + error\n",
        "        else:\n",
        "            trend = error\n",
        "\n",
        "        mean_function = jnp.exp(mu + trend + season_effect[seasonality[t]])\n",
        "        obs.append(mean_function)\n",
        "\n",
        "    with numpyro.plate('obs_plate', n_time):\n",
        "        numpyro.sample('obs', dist.Normal(jnp.array(obs), sigma), obs=y)\n",
        "\n",
        "def logistic_trend_model(seasonality : np.ndarray, y=None):\n",
        "    num_seasons = len(np.unique(seasonality))\n",
        "    mu = numpyro.sample('mu', dist.Normal(0., 1.))\n",
        "    sigma = numpyro.sample('sigma', dist.HalfNormal(0.5))\n",
        "\n",
        "    with numpyro.plate('seasonality_plate', num_seasons):\n",
        "        season_effect = numpyro.sample('season_effect', dist.Normal(0, 1))\n",
        "\n",
        "    # トレンド部分をロジスティック非線形トレンドに\n",
        "    alpha = numpyro.sample('alpha', dist.Normal(0., 1.))\n",
        "    beta = numpyro.sample('beta', dist.Normal(0., 1.))\n",
        "    obs = []\n",
        "    n_time = len(y) if y is not None else len(seasonality)\n",
        "    for t in range(n_time):\n",
        "        trend = 1. / (1. + jnp.exp(-alpha - beta * t))\n",
        "        mean_function = jnp.exp(mu + trend + season_effect[seasonality[t]])\n",
        "        obs.append(mean_function)\n",
        "\n",
        "    with numpyro.plate('obs_plate', n_time):\n",
        "        numpyro.sample('obs', dist.Normal(jnp.array(obs), sigma), obs=y)\n",
        "\n",
        "\n",
        "def train_model(\n",
        "    model: Callable,\n",
        "    seasonality: np.ndarray,\n",
        "    y: np.ndarray,\n",
        "    n: int = None,\n",
        "    num_samples: int = 1000,\n",
        "    num_warmup: int = 500\n",
        ") -> MCMC:\n",
        "\n",
        "    nuts_kernel = NUTS(model)\n",
        "    mcmc = MCMC(nuts_kernel, num_samples=num_samples, num_warmup=num_warmup)\n",
        "    if n is not None:\n",
        "        mcmc.run(random.PRNGKey(0), seasonality=seasonality, n=n, y=y)\n",
        "    else:\n",
        "        mcmc.run(random.PRNGKey(0), seasonality=seasonality, y=y)\n",
        "\n",
        "    return mcmc\n",
        "\n",
        "\n",
        "# データの長さ\n",
        "n = 100\n",
        "\n",
        "# 年間を通じての週ごとの周期性を模擬します。\n",
        "# 例えば、週の何日目か（0〜6）を示すシーズン性を持つデータを作成します。\n",
        "seasonality = np.arange(n) % 12\n",
        "\n",
        "# 真のパラメータ\n",
        "true_mu = 0.5\n",
        "true_sigma = 0.1\n",
        "true_season_effect = np.random.normal(0, 1, 12)  # 一週間の各日に対する影響\n",
        "\n",
        "# 真のパラメータを用いてyを生成します。\n",
        "epsilon = np.random.normal(0, true_sigma, n)\n",
        "y = true_mu + true_season_effect[seasonality] + epsilon\n"
      ]
    },
    {
      "cell_type": "code",
      "execution_count": null,
      "metadata": {
        "colab": {
          "base_uri": "https://localhost:8080/"
        },
        "id": "GIoWINLjhCUs",
        "outputId": "ee58a57e-b2c5-4021-9917-7e1687222d0c"
      },
      "outputs": [
        {
          "output_type": "stream",
          "name": "stderr",
          "text": [
            "warmup:   1%|          | 11/1500 [01:04<52:28,  2.11s/it, 255 steps of size 3.31e-02. acc. prob=0.64]"
          ]
        }
      ],
      "source": [
        "\n",
        "# 使用例\n",
        "#ar2_mcmc = train_model(ar_model, seasonality, y, n = 2)\n",
        "ar3_mcmc = train_model(ar_model, seasonality, y, n = 3)\n",
        "#ar4_mcmc = train_model(ar_model, seasonality, y, n = 4)\n",
        "#ma2_mcmc = train_model(ma_model, seasonality, y, n = 2)\n",
        "#ma3_mcmc = train_model(ma_model, seasonality, y, n = 3)\n",
        "#ma4_mcmc = train_model(ma_model, seasonality, y, n = 4)\n",
        "#logistic_mcmc = train_model(logistic_trend_model, seasonality, y)\n",
        "\n",
        "# サンプルの取得\n",
        "samples = ar3_mcmc.get_samples()\n",
        "#ma_samples = ma_mcmc.get_samples()\n",
        "#ogistic_samples = logistic_mcmc.get_samples()\n",
        "\n"
      ]
    },
    {
      "cell_type": "code",
      "execution_count": null,
      "metadata": {
        "id": "yYqFfgWQIRR2"
      },
      "outputs": [],
      "source": [
        "import matplotlib.pyplot as plt\n",
        "\n",
        "# サンプルから季節効果を取得\n",
        "#ma4_samples = ma4_mcmc.get_samples()\n",
        "season_effect_samples = samples['season_effect']\n",
        "\n",
        "# 各月の季節効果の平均と標準偏差を計算\n",
        "season_effect_mean = np.mean(season_effect_samples, axis=0)\n",
        "season_effect_std = np.std(season_effect_samples, axis=0)\n",
        "\n",
        "# 各月の季節効果の平均と標準偏差をプロット\n",
        "plt.figure(figsize=(10, 5))\n",
        "plt.errorbar(range(1, 13), season_effect_mean, yerr=season_effect_std, fmt='o')\n",
        "plt.xticks(range(1, 13), ['Jan', 'Feb', 'Mar', 'Apr', 'May', 'Jun', 'Jul', 'Aug', 'Sep', 'Oct', 'Nov', 'Dec'])\n",
        "plt.xlabel('Month')\n",
        "plt.ylabel('Season effect')\n",
        "plt.title('Season effect for each month')\n",
        "plt.grid(True)\n",
        "plt.show()\n"
      ]
    },
    {
      "cell_type": "code",
      "execution_count": null,
      "metadata": {
        "id": "--dvRMiZKCkR"
      },
      "outputs": [],
      "source": [
        "from numpyro.infer import MCMC, NUTS, Predictive\n",
        "# 事後予測分布のサンプリング\n",
        "predictive = Predictive(multiplicative_model, samples)\n",
        "rng_key = random.PRNGKey(1)  # 別の乱数シードを使用\n",
        "predictive_samples = predictive(rng_key, seasonality)\n",
        "\n",
        "# 予測値（平均）\n",
        "y_pred = predictive_samples['obs'].mean(axis=0)\n",
        "\n",
        "# 予測区間（95%信頼区間）\n",
        "y_lower = np.percentile(predictive_samples['obs'], 2.5, axis=0)\n",
        "y_upper = np.percentile(predictive_samples['obs'], 97.5, axis=0)\n",
        "\n",
        "# トレンド値\n",
        "trend = [np.mean( samples[f'trend_{i + 1}'] , axis=0) for i in range(99)]\n",
        "\n",
        "# プロット\n",
        "plt.figure(figsize=(10, 5))\n",
        "plt.plot(y, label='True')\n",
        "plt.plot(y_pred, label='Predicted')\n",
        "plt.plot(trend, label='Trend')\n",
        "plt.fill_between(range(len(y)), y_lower, y_upper, alpha=0.2)\n",
        "plt.legend()\n",
        "plt.show()\n",
        "\n"
      ]
    },
    {
      "cell_type": "code",
      "source": [],
      "metadata": {
        "id": "fUGOrUIRGfJ1"
      },
      "execution_count": null,
      "outputs": []
    }
  ],
  "metadata": {
    "accelerator": "GPU",
    "colab": {
      "machine_shape": "hm",
      "provenance": [],
      "authorship_tag": "ABX9TyOfbOtr3lVn4+HFAjhQ3ay4",
      "include_colab_link": true
    },
    "kernelspec": {
      "display_name": "Python 3",
      "name": "python3"
    },
    "language_info": {
      "name": "python"
    }
  },
  "nbformat": 4,
  "nbformat_minor": 0
}