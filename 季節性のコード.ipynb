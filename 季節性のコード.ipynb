{
  "nbformat": 4,
  "nbformat_minor": 0,
  "metadata": {
    "colab": {
      "provenance": [],
      "gpuType": "T4",
      "authorship_tag": "ABX9TyMWSCIDlQ4TcxJpsp7CfRwu",
      "include_colab_link": true
    },
    "kernelspec": {
      "name": "python3",
      "display_name": "Python 3"
    },
    "language_info": {
      "name": "python"
    },
    "accelerator": "GPU"
  },
  "cells": [
    {
      "cell_type": "markdown",
      "metadata": {
        "id": "view-in-github",
        "colab_type": "text"
      },
      "source": [
        "<a href=\"https://colab.research.google.com/github/a-yuto/numpyro-sandbox/blob/main/%E5%AD%A3%E7%AF%80%E6%80%A7%E3%81%AE%E3%82%B3%E3%83%BC%E3%83%89.ipynb\" target=\"_parent\"><img src=\"https://colab.research.google.com/assets/colab-badge.svg\" alt=\"Open In Colab\"/></a>"
      ]
    },
    {
      "cell_type": "code",
      "execution_count": null,
      "metadata": {
        "colab": {
          "base_uri": "https://localhost:8080/"
        },
        "id": "il8dm-VIHMy6",
        "outputId": "a6023e12-437f-4983-a443-f77588397d2f"
      },
      "outputs": [
        {
          "output_type": "stream",
          "name": "stdout",
          "text": [
            "Looking in indexes: https://pypi.org/simple, https://us-python.pkg.dev/colab-wheels/public/simple/\n",
            "Requirement already satisfied: numpyro in /usr/local/lib/python3.10/dist-packages (0.12.1)\n",
            "Requirement already satisfied: jax>=0.4.7 in /usr/local/lib/python3.10/dist-packages (from numpyro) (0.4.12)\n",
            "Requirement already satisfied: jaxlib>=0.4.7 in /usr/local/lib/python3.10/dist-packages (from numpyro) (0.4.10+cuda11.cudnn86)\n",
            "Requirement already satisfied: multipledispatch in /usr/local/lib/python3.10/dist-packages (from numpyro) (0.6.0)\n",
            "Requirement already satisfied: numpy in /usr/local/lib/python3.10/dist-packages (from numpyro) (1.22.4)\n",
            "Requirement already satisfied: tqdm in /usr/local/lib/python3.10/dist-packages (from numpyro) (4.65.0)\n",
            "Requirement already satisfied: ml-dtypes>=0.1.0 in /usr/local/lib/python3.10/dist-packages (from jax>=0.4.7->numpyro) (0.1.0)\n",
            "Requirement already satisfied: opt-einsum in /usr/local/lib/python3.10/dist-packages (from jax>=0.4.7->numpyro) (3.3.0)\n",
            "Requirement already satisfied: scipy>=1.7 in /usr/local/lib/python3.10/dist-packages (from jax>=0.4.7->numpyro) (1.10.1)\n",
            "Requirement already satisfied: six in /usr/local/lib/python3.10/dist-packages (from multipledispatch->numpyro) (1.16.0)\n",
            "Looking in indexes: https://pypi.org/simple, https://us-python.pkg.dev/colab-wheels/public/simple/\n",
            "Requirement already satisfied: jax in /usr/local/lib/python3.10/dist-packages (0.4.12)\n",
            "Requirement already satisfied: ml-dtypes>=0.1.0 in /usr/local/lib/python3.10/dist-packages (from jax) (0.1.0)\n",
            "Requirement already satisfied: numpy>=1.21 in /usr/local/lib/python3.10/dist-packages (from jax) (1.22.4)\n",
            "Requirement already satisfied: opt-einsum in /usr/local/lib/python3.10/dist-packages (from jax) (3.3.0)\n",
            "Requirement already satisfied: scipy>=1.7 in /usr/local/lib/python3.10/dist-packages (from jax) (1.10.1)\n"
          ]
        }
      ],
      "source": [
        "%pip install numpyro\n",
        "%pip install --upgrade jax\n"
      ]
    },
    {
      "cell_type": "code",
      "source": [
        "import numpy as np\n",
        "import jax\n",
        "import jax.numpy as jnp\n",
        "from jax import random,ops\n",
        "import numpyro\n",
        "from numpyro import sample, plate\n",
        "from numpyro.infer import MCMC, NUTS\n",
        "import numpyro.distributions as dist\n",
        "from typing import Callable\n",
        "\n",
        "# モデル定義\n",
        "def multiplicative_model(seasonality : np.ndarray, y=None):\n",
        "    num_seasons = len(np.unique(seasonality))\n",
        "    mu = numpyro.sample('mu', dist.Normal(0., 1.))\n",
        "    sigma = numpyro.sample('sigma', dist.HalfNormal(0.5))\n",
        "    with numpyro.plate('seasonality_plate', num_seasons):\n",
        "        season_effect = numpyro.sample('season_effect', dist.Normal(0, 1))\n",
        "\n",
        "    # トレンド部分をAR(1)に\n",
        "    phi = numpyro.sample('phi', dist.Normal(0., 1.))\n",
        "    trend_prev = numpyro.sample('trend_0', dist.Normal(0., 1.))\n",
        "\n",
        "    obs = []\n",
        "    n_time = len(y) if y is not None else len(seasonality)\n",
        "    for t in range(n_time):\n",
        "        if t > 0:\n",
        "            trend = numpyro.sample(f'trend_{t}', dist.Normal(phi*trend_prev, 1.))\n",
        "            trend_prev = trend\n",
        "        else:\n",
        "            trend = trend_prev\n",
        "\n",
        "        mean_function = jnp.exp(mu + trend + season_effect[seasonality[t]])\n",
        "        obs.append(mean_function)\n",
        "\n",
        "    with numpyro.plate('obs_plate', n_time):\n",
        "        numpyro.sample('obs', dist.Normal(jnp.array(obs), sigma), obs=y)\n",
        "\n",
        "def ar_model(seasonality : np.ndarray,  n = 1, y=None):\n",
        "    num_seasons = len(np.unique(seasonality))\n",
        "    mu = numpyro.sample('mu', dist.Normal(0., 1.))\n",
        "    sigma = numpyro.sample('sigma', dist.HalfNormal(0.5))\n",
        "\n",
        "    with numpyro.plate('seasonality_plate', num_seasons):\n",
        "        season_effect = numpyro.sample('season_effect', dist.Normal(0, 1))\n",
        "\n",
        "    # トレンド部分をAR(n)に\n",
        "    phi = numpyro.sample('phi', dist.Normal(0., 1.), sample_shape=(n,))\n",
        "    trend_prev = numpyro.sample('trend_init', dist.Normal(0., 1.), sample_shape=(n,))\n",
        "\n",
        "    obs = []\n",
        "    n_time = len(y) if y is not None else len(seasonality)\n",
        "    for t in range(n_time):\n",
        "        if t >= n:\n",
        "            trend = numpyro.sample(f'trend_{t}', dist.Normal(jnp.dot(phi, trend_prev), 1.))\n",
        "            trend_prev = jnp.roll(trend_prev, -1)\n",
        "            trend_prev = trend_prev.at[-1].set(trend)\n",
        "        elif t > 0 and t < n:\n",
        "            trend = numpyro.sample(f'trend_{t}', dist.Normal(jnp.dot(phi[:t], trend_prev[:t]), 1.))\n",
        "        else:\n",
        "            trend = trend_prev[t]\n",
        "\n",
        "        mean_function = jnp.exp(mu + trend + season_effect[seasonality[t]])\n",
        "        obs.append(mean_function)\n",
        "\n",
        "    with numpyro.plate('obs_plate', n_time):\n",
        "        numpyro.sample('obs', dist.Normal(jnp.array(obs), sigma), obs=y)\n",
        "\n",
        "\n",
        "def ma_model(seasonality : np.ndarray,n = 1, y=None):\n",
        "    num_seasons = len(np.unique(seasonality))\n",
        "    mu = numpyro.sample('mu', dist.Normal(0., 1.))\n",
        "    sigma = numpyro.sample('sigma', dist.HalfNormal(0.5))\n",
        "\n",
        "    with numpyro.plate('seasonality_plate', num_seasons):\n",
        "        season_effect = numpyro.sample('season_effect', dist.Normal(0, 1))\n",
        "\n",
        "    # トレンド部分をMA(n)に\n",
        "    theta = numpyro.sample('theta', dist.Normal(0., 1.), sample_shape=(n,))\n",
        "    error_prev = numpyro.sample('error_init', dist.Normal(0., 1.), sample_shape=(n,))\n",
        "\n",
        "    obs = []\n",
        "    n_time = len(y) if y is not None else len(seasonality)\n",
        "    for t in range(n_time):\n",
        "        error = numpyro.sample(f'error_{t}', dist.Normal(0., 1.))\n",
        "        if t >= n:\n",
        "            trend = jnp.dot(theta, error_prev) + error\n",
        "            error_prev = jnp.roll(error_prev, -1)\n",
        "            error_prev = error_prev.at[-1].set(error)\n",
        "        elif t > 0 and t < n:\n",
        "            trend = jnp.dot(theta[:t], error_prev[:t]) + error\n",
        "        else:\n",
        "            trend = error\n",
        "\n",
        "        mean_function = jnp.exp(mu + trend + season_effect[seasonality[t]])\n",
        "        obs.append(mean_function)\n",
        "\n",
        "    with numpyro.plate('obs_plate', n_time):\n",
        "        numpyro.sample('obs', dist.Normal(jnp.array(obs), sigma), obs=y)\n",
        "\n",
        "def logistic_trend_model(seasonality : np.ndarray, y=None):\n",
        "    num_seasons = len(np.unique(seasonality))\n",
        "    mu = numpyro.sample('mu', dist.Normal(0., 1.))\n",
        "    sigma = numpyro.sample('sigma', dist.HalfNormal(0.5))\n",
        "\n",
        "    with numpyro.plate('seasonality_plate', num_seasons):\n",
        "        season_effect = numpyro.sample('season_effect', dist.Normal(0, 1))\n",
        "\n",
        "    # トレンド部分をロジスティック非線形トレンドに\n",
        "    alpha = numpyro.sample('alpha', dist.Normal(0., 1.))\n",
        "    beta = numpyro.sample('beta', dist.Normal(0., 1.))\n",
        "    obs = []\n",
        "    n_time = len(y) if y is not None else len(seasonality)\n",
        "    for t in range(n_time):\n",
        "        trend = 1. / (1. + jnp.exp(-alpha - beta * t))\n",
        "        mean_function = jnp.exp(mu + trend + season_effect[seasonality[t]])\n",
        "        obs.append(mean_function)\n",
        "\n",
        "    with numpyro.plate('obs_plate', n_time):\n",
        "        numpyro.sample('obs', dist.Normal(jnp.array(obs), sigma), obs=y)\n",
        "\n",
        "\n",
        "def train_model(\n",
        "    model: Callable, \n",
        "    seasonality: np.ndarray, \n",
        "    y: np.ndarray, \n",
        "    n: int = None, \n",
        "    num_samples: int = 1000, \n",
        "    num_warmup: int = 500\n",
        ") -> MCMC:\n",
        "    \n",
        "    nuts_kernel = NUTS(model)\n",
        "    mcmc = MCMC(nuts_kernel, num_samples=num_samples, num_warmup=num_warmup)\n",
        "    if n is not None:\n",
        "        mcmc.run(random.PRNGKey(0), seasonality=seasonality, n=n, y=y)\n",
        "    else:\n",
        "        mcmc.run(random.PRNGKey(0), seasonality=seasonality, y=y)\n",
        "    \n",
        "    return mcmc\n",
        "\n",
        "\n",
        "# データの長さ\n",
        "n = 100\n",
        "\n",
        "# 年間を通じての週ごとの周期性を模擬します。\n",
        "# 例えば、週の何日目か（0〜6）を示すシーズン性を持つデータを作成します。\n",
        "seasonality = np.arange(n) % 7\n",
        "\n",
        "# 真のパラメータ\n",
        "true_mu = 0.5\n",
        "true_sigma = 0.1\n",
        "true_season_effect = np.random.normal(0, 1, 7)  # 一週間の各日に対する影響\n",
        "\n",
        "# 真のパラメータを用いてyを生成します。\n",
        "epsilon = np.random.normal(0, true_sigma, n)\n",
        "y = true_mu + true_season_effect[seasonality] + epsilon\n",
        "\n",
        "# 使用例\n",
        "ar_mcmc = train_model(ar_model, seasonality, y, n = 2)\n",
        "ma_mcmc = train_model(ma_model, seasonality, y, n = 2)\n",
        "logistic_mcmc = train_model(logistic_trend_model, seasonality, y)\n",
        "\n",
        "# サンプルの取得\n",
        "ar_samples = ar_mcmc.get_samples()\n",
        "ma_samples = ma_mcmc.get_samples()\n",
        "logistic_samples = logistic_mcmc.get_samples()\n",
        "\n",
        "\n",
        "# データの長さ\n",
        "n = 100\n",
        "\n",
        "# 年間を通じての週ごとの周期性を模擬します。\n",
        "# 例えば、週の何日目か（0〜6）を示すシーズン性を持つデータを作成します。\n",
        "seasonality = np.arange(n) % 7\n",
        "\n",
        "# 真のパラメータ\n",
        "true_mu = 0.5\n",
        "true_sigma = 0.1\n",
        "true_season_effect = np.random.normal(0, 1, 7)  # 一週間の各日に対する影響\n",
        "\n",
        "# 真のパラメータを用いてyを生成します。\n",
        "epsilon = np.random.normal(0, true_sigma, n)\n",
        "y = true_mu + true_season_effect[seasonality] + epsilon\n",
        "\n",
        "\n",
        "# 使用例\n",
        "ar_mcmc = train_model(ar_model, seasonality, y)\n",
        "ma_mcmc = train_model(ma_model, seasonality, y)\n",
        "logistic_mcmc = train_model(logistic_trend_model, seasonality, y)\n",
        "\n",
        "# サンプルの取得\n",
        "ar_samples = ar_mcmc.get_samples()\n",
        "ma_samples = ma_mcmc.get_samples()\n",
        "logistic_samples = logistic_mcmc.get_samples()\n"
      ],
      "metadata": {
        "colab": {
          "base_uri": "https://localhost:8080/",
          "height": 402
        },
        "id": "PlUyl1AQHdEF",
        "outputId": "aa7d7e55-bf55-4faa-b905-c7b380e34411"
      },
      "execution_count": null,
      "outputs": [
        {
          "output_type": "error",
          "ename": "RuntimeError",
          "evalue": "ignored",
          "traceback": [
            "\u001b[0;31m---------------------------------------------------------------------------\u001b[0m",
            "\u001b[0;31mRuntimeError\u001b[0m                              Traceback (most recent call last)",
            "\u001b[0;32m<ipython-input-2-a285757e0a4b>\u001b[0m in \u001b[0;36m<cell line: 2>\u001b[0;34m()\u001b[0m\n\u001b[1;32m      1\u001b[0m \u001b[0;32mimport\u001b[0m \u001b[0mnumpy\u001b[0m \u001b[0;32mas\u001b[0m \u001b[0mnp\u001b[0m\u001b[0;34m\u001b[0m\u001b[0;34m\u001b[0m\u001b[0m\n\u001b[0;32m----> 2\u001b[0;31m \u001b[0;32mimport\u001b[0m \u001b[0mjax\u001b[0m\u001b[0;34m\u001b[0m\u001b[0;34m\u001b[0m\u001b[0m\n\u001b[0m\u001b[1;32m      3\u001b[0m \u001b[0;32mimport\u001b[0m \u001b[0mjax\u001b[0m\u001b[0;34m.\u001b[0m\u001b[0mnumpy\u001b[0m \u001b[0;32mas\u001b[0m \u001b[0mjnp\u001b[0m\u001b[0;34m\u001b[0m\u001b[0;34m\u001b[0m\u001b[0m\n\u001b[1;32m      4\u001b[0m \u001b[0;32mfrom\u001b[0m \u001b[0mjax\u001b[0m \u001b[0;32mimport\u001b[0m \u001b[0mrandom\u001b[0m\u001b[0;34m,\u001b[0m\u001b[0mops\u001b[0m\u001b[0;34m\u001b[0m\u001b[0;34m\u001b[0m\u001b[0m\n\u001b[1;32m      5\u001b[0m \u001b[0;32mimport\u001b[0m \u001b[0mnumpyro\u001b[0m\u001b[0;34m\u001b[0m\u001b[0;34m\u001b[0m\u001b[0m\n",
            "\u001b[0;32m/usr/local/lib/python3.10/dist-packages/jax/__init__.py\u001b[0m in \u001b[0;36m<module>\u001b[0;34m\u001b[0m\n\u001b[1;32m     33\u001b[0m \u001b[0;31m# We want the exported object to be the class, so we first import the module\u001b[0m\u001b[0;34m\u001b[0m\u001b[0;34m\u001b[0m\u001b[0m\n\u001b[1;32m     34\u001b[0m \u001b[0;31m# to make sure a later import doesn't overwrite the class.\u001b[0m\u001b[0;34m\u001b[0m\u001b[0;34m\u001b[0m\u001b[0m\n\u001b[0;32m---> 35\u001b[0;31m \u001b[0;32mfrom\u001b[0m \u001b[0mjax\u001b[0m \u001b[0;32mimport\u001b[0m \u001b[0mconfig\u001b[0m \u001b[0;32mas\u001b[0m \u001b[0m_config_module\u001b[0m\u001b[0;34m\u001b[0m\u001b[0;34m\u001b[0m\u001b[0m\n\u001b[0m\u001b[1;32m     36\u001b[0m \u001b[0;32mdel\u001b[0m \u001b[0m_config_module\u001b[0m\u001b[0;34m\u001b[0m\u001b[0;34m\u001b[0m\u001b[0m\n\u001b[1;32m     37\u001b[0m \u001b[0;34m\u001b[0m\u001b[0m\n",
            "\u001b[0;32m/usr/local/lib/python3.10/dist-packages/jax/config.py\u001b[0m in \u001b[0;36m<module>\u001b[0;34m\u001b[0m\n\u001b[1;32m     15\u001b[0m \u001b[0;31m# TODO(phawkins): fix users of this alias and delete this file.\u001b[0m\u001b[0;34m\u001b[0m\u001b[0;34m\u001b[0m\u001b[0m\n\u001b[1;32m     16\u001b[0m \u001b[0;34m\u001b[0m\u001b[0m\n\u001b[0;32m---> 17\u001b[0;31m \u001b[0;32mfrom\u001b[0m \u001b[0mjax\u001b[0m\u001b[0;34m.\u001b[0m\u001b[0m_src\u001b[0m\u001b[0;34m.\u001b[0m\u001b[0mconfig\u001b[0m \u001b[0;32mimport\u001b[0m \u001b[0mconfig\u001b[0m  \u001b[0;31m# noqa: F401\u001b[0m\u001b[0;34m\u001b[0m\u001b[0;34m\u001b[0m\u001b[0m\n\u001b[0m",
            "\u001b[0;32m/usr/local/lib/python3.10/dist-packages/jax/_src/config.py\u001b[0m in \u001b[0;36m<module>\u001b[0;34m\u001b[0m\n\u001b[1;32m     22\u001b[0m \u001b[0;32mfrom\u001b[0m \u001b[0mtyping\u001b[0m \u001b[0;32mimport\u001b[0m \u001b[0mAny\u001b[0m\u001b[0;34m,\u001b[0m \u001b[0mList\u001b[0m\u001b[0;34m,\u001b[0m \u001b[0mCallable\u001b[0m\u001b[0;34m,\u001b[0m \u001b[0mHashable\u001b[0m\u001b[0;34m,\u001b[0m \u001b[0mNamedTuple\u001b[0m\u001b[0;34m,\u001b[0m \u001b[0mIterator\u001b[0m\u001b[0;34m,\u001b[0m \u001b[0mOptional\u001b[0m\u001b[0;34m\u001b[0m\u001b[0;34m\u001b[0m\u001b[0m\n\u001b[1;32m     23\u001b[0m \u001b[0;34m\u001b[0m\u001b[0m\n\u001b[0;32m---> 24\u001b[0;31m \u001b[0;32mfrom\u001b[0m \u001b[0mjax\u001b[0m\u001b[0;34m.\u001b[0m\u001b[0m_src\u001b[0m \u001b[0;32mimport\u001b[0m \u001b[0mlib\u001b[0m\u001b[0;34m\u001b[0m\u001b[0;34m\u001b[0m\u001b[0m\n\u001b[0m\u001b[1;32m     25\u001b[0m \u001b[0;32mfrom\u001b[0m \u001b[0mjax\u001b[0m\u001b[0;34m.\u001b[0m\u001b[0m_src\u001b[0m\u001b[0;34m.\u001b[0m\u001b[0mlib\u001b[0m \u001b[0;32mimport\u001b[0m \u001b[0mjax_jit\u001b[0m\u001b[0;34m\u001b[0m\u001b[0;34m\u001b[0m\u001b[0m\n\u001b[1;32m     26\u001b[0m \u001b[0;32mfrom\u001b[0m \u001b[0mjax\u001b[0m\u001b[0;34m.\u001b[0m\u001b[0m_src\u001b[0m\u001b[0;34m.\u001b[0m\u001b[0mlib\u001b[0m \u001b[0;32mimport\u001b[0m \u001b[0mtransfer_guard_lib\u001b[0m\u001b[0;34m\u001b[0m\u001b[0;34m\u001b[0m\u001b[0m\n",
            "\u001b[0;32m/usr/local/lib/python3.10/dist-packages/jax/_src/lib/__init__.py\u001b[0m in \u001b[0;36m<module>\u001b[0;34m\u001b[0m\n\u001b[1;32m     71\u001b[0m \u001b[0;34m\u001b[0m\u001b[0m\n\u001b[1;32m     72\u001b[0m \u001b[0mversion_str\u001b[0m \u001b[0;34m=\u001b[0m \u001b[0mjaxlib\u001b[0m\u001b[0;34m.\u001b[0m\u001b[0mversion\u001b[0m\u001b[0;34m.\u001b[0m\u001b[0m__version__\u001b[0m\u001b[0;34m\u001b[0m\u001b[0;34m\u001b[0m\u001b[0m\n\u001b[0;32m---> 73\u001b[0;31m version = check_jaxlib_version(\n\u001b[0m\u001b[1;32m     74\u001b[0m   \u001b[0mjax_version\u001b[0m\u001b[0;34m=\u001b[0m\u001b[0mjax\u001b[0m\u001b[0;34m.\u001b[0m\u001b[0mversion\u001b[0m\u001b[0;34m.\u001b[0m\u001b[0m__version__\u001b[0m\u001b[0;34m,\u001b[0m\u001b[0;34m\u001b[0m\u001b[0;34m\u001b[0m\u001b[0m\n\u001b[1;32m     75\u001b[0m   \u001b[0mjaxlib_version\u001b[0m\u001b[0;34m=\u001b[0m\u001b[0mjaxlib\u001b[0m\u001b[0;34m.\u001b[0m\u001b[0mversion\u001b[0m\u001b[0;34m.\u001b[0m\u001b[0m__version__\u001b[0m\u001b[0;34m,\u001b[0m\u001b[0;34m\u001b[0m\u001b[0;34m\u001b[0m\u001b[0m\n",
            "\u001b[0;32m/usr/local/lib/python3.10/dist-packages/jax/_src/lib/__init__.py\u001b[0m in \u001b[0;36mcheck_jaxlib_version\u001b[0;34m(jax_version, jaxlib_version, minimum_jaxlib_version)\u001b[0m\n\u001b[1;32m     60\u001b[0m     msg = (f'jaxlib is version {jaxlib_version}, but this version '\n\u001b[1;32m     61\u001b[0m            f'of jax requires version >= {minimum_jaxlib_version}.')\n\u001b[0;32m---> 62\u001b[0;31m     \u001b[0;32mraise\u001b[0m \u001b[0mRuntimeError\u001b[0m\u001b[0;34m(\u001b[0m\u001b[0mmsg\u001b[0m\u001b[0;34m)\u001b[0m\u001b[0;34m\u001b[0m\u001b[0;34m\u001b[0m\u001b[0m\n\u001b[0m\u001b[1;32m     63\u001b[0m \u001b[0;34m\u001b[0m\u001b[0m\n\u001b[1;32m     64\u001b[0m   \u001b[0;32mif\u001b[0m \u001b[0m_jaxlib_version\u001b[0m \u001b[0;34m>\u001b[0m \u001b[0m_jax_version\u001b[0m\u001b[0;34m:\u001b[0m\u001b[0;34m\u001b[0m\u001b[0;34m\u001b[0m\u001b[0m\n",
            "\u001b[0;31mRuntimeError\u001b[0m: jaxlib is version 0.4.10, but this version of jax requires version >= 0.4.11."
          ]
        }
      ]
    },
    {
      "cell_type": "markdown",
      "source": [],
      "metadata": {
        "id": "XwqJa1L2KNqW"
      }
    },
    {
      "cell_type": "code",
      "source": [
        "samples = mcmc.get_samples()"
      ],
      "metadata": {
        "id": "4xXbK6MSHz4W"
      },
      "execution_count": null,
      "outputs": []
    },
    {
      "cell_type": "code",
      "source": [
        "import matplotlib.pyplot as plt\n",
        "\n",
        "# サンプルから季節効果を取得\n",
        "season_effect_samples = samples['season_effect']\n",
        "\n",
        "# 各月の季節効果の平均と標準偏差を計算\n",
        "season_effect_mean = np.mean(season_effect_samples, axis=0)\n",
        "season_effect_std = np.std(season_effect_samples, axis=0)\n",
        "\n",
        "# 各月の季節効果の平均と標準偏差をプロット\n",
        "plt.figure(figsize=(10, 5))\n",
        "plt.errorbar(range(1, 13), season_effect_mean, yerr=season_effect_std, fmt='o')\n",
        "plt.xticks(range(1, 13), ['Jan', 'Feb', 'Mar', 'Apr', 'May', 'Jun', 'Jul', 'Aug', 'Sep', 'Oct', 'Nov', 'Dec'])\n",
        "plt.xlabel('Month')\n",
        "plt.ylabel('Season effect')\n",
        "plt.title('Season effect for each month')\n",
        "plt.grid(True)\n",
        "plt.show()\n"
      ],
      "metadata": {
        "id": "yYqFfgWQIRR2"
      },
      "execution_count": null,
      "outputs": []
    },
    {
      "cell_type": "code",
      "source": [
        "from numpyro.infer import MCMC, NUTS, Predictive\n",
        "# 事後予測分布のサンプリング\n",
        "predictive = Predictive(multiplicative_model, samples)\n",
        "rng_key = random.PRNGKey(1)  # 別の乱数シードを使用\n",
        "predictive_samples = predictive(rng_key, seasonality)\n",
        "\n",
        "# 予測値（平均）\n",
        "y_pred = predictive_samples['obs'].mean(axis=0)\n",
        "\n",
        "# 予測区間（95%信頼区間）\n",
        "y_lower = np.percentile(predictive_samples['obs'], 2.5, axis=0)\n",
        "y_upper = np.percentile(predictive_samples['obs'], 97.5, axis=0)\n",
        "\n",
        "# プロット\n",
        "plt.figure(figsize=(10, 5))\n",
        "plt.plot(y, label='True')\n",
        "plt.plot(y_pred, label='Predicted')\n",
        "plt.fill_between(range(len(y)), y_lower, y_upper, alpha=0.2)\n",
        "plt.legend()\n",
        "plt.show()\n",
        "\n"
      ],
      "metadata": {
        "id": "--dvRMiZKCkR"
      },
      "execution_count": null,
      "outputs": []
    },
    {
      "cell_type": "code",
      "source": [
        "predictive_samples"
      ],
      "metadata": {
        "id": "ukm-QU0ZKPkZ"
      },
      "execution_count": null,
      "outputs": []
    },
    {
      "cell_type": "code",
      "source": [
        "import jax\n",
        "print(jax.__version__)\n"
      ],
      "metadata": {
        "id": "PjYR9pYdegiU"
      },
      "execution_count": null,
      "outputs": []
    },
    {
      "cell_type": "code",
      "source": [],
      "metadata": {
        "id": "-Adg0-ui7Exe"
      },
      "execution_count": null,
      "outputs": []
    }
  ]
}